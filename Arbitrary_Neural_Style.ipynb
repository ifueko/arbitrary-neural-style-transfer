{
  "nbformat": 4,
  "nbformat_minor": 0,
  "metadata": {
    "colab": {
      "name": "Arbitrary Neural Style",
      "provenance": [],
      "machine_shape": "hm"
    },
    "kernelspec": {
      "name": "python3",
      "display_name": "Python 3"
    },
    "language_info": {
      "name": "python"
    },
    "accelerator": "TPU"
  },
  "cells": [
    {
      "cell_type": "markdown",
      "metadata": {
        "id": "4zCKr_JxxWLn"
      },
      "source": [
        "# Arbitrary Neural Style Transfer using Pretrained Models\n",
        "\n",
        "Google's Magenta project provides pre-trained models for real-time style transfer using arbitrary images and styles. \n",
        "[Check out the full repository here.](https://github.com/magenta/magenta/tree/master/magenta/models/arbitrary_image_stylization)\n",
        "\n",
        "In addition to the model, I set up a specific directory structure to match my images. This folder is called `Selfies` and is at the root of my google drive. The structure is as follows:\n",
        "```\n",
        "Selfies/\n",
        "    output/\n",
        "      # Output files will be stored here\n",
        "    styles/\n",
        "      style-0.jpg\n",
        "      style-1.jpg\n",
        "      style-2.jpg\n",
        "      style-3.jpg\n",
        "      style-4.jpg\n",
        "      style-5.jpg\n",
        "      style-6.jpg\n",
        "      style-7.jpg\n",
        "    videos/\n",
        "      video-1.mp4\n",
        "    pictures/\n",
        "      img-1.jpg\n",
        "      img-2.jpg\n",
        "      ...\n",
        "```\n",
        "\n",
        "The photos in the `pictures` directory can have any number of images and any filename as long as the extension is `.jpg`. \n",
        "\n",
        "The code below evaluates 8 styles on the video `video-1.mp4`. "
      ]
    },
    {
      "cell_type": "code",
      "metadata": {
        "colab": {
          "base_uri": "https://localhost:8080/"
        },
        "id": "0vj-jWMxDul6",
        "outputId": "841c0ff3-a058-467f-a648-a874bf90f238"
      },
      "source": [
        "from google.colab import drive\n",
        "import os\n",
        "drive.mount('/content/drive')"
      ],
      "execution_count": null,
      "outputs": [
        {
          "output_type": "stream",
          "text": [
            "Mounted at /content/drive\n"
          ],
          "name": "stdout"
        }
      ]
    },
    {
      "cell_type": "code",
      "metadata": {
        "id": "nRykGn5Hp1KI",
        "colab": {
          "base_uri": "https://localhost:8080/"
        },
        "outputId": "6e3f5348-bb97-4d98-e0bc-fc4469f4bf37"
      },
      "source": [
        "! wget https://storage.googleapis.com/download.magenta.tensorflow.org/models/arbitrary_style_transfer.tar.gz"
      ],
      "execution_count": null,
      "outputs": [
        {
          "output_type": "stream",
          "text": [
            "--2021-05-16 07:05:13--  https://storage.googleapis.com/download.magenta.tensorflow.org/models/arbitrary_style_transfer.tar.gz\n",
            "Resolving storage.googleapis.com (storage.googleapis.com)... 142.250.136.128, 142.250.148.128, 209.85.200.128, ...\n",
            "Connecting to storage.googleapis.com (storage.googleapis.com)|142.250.136.128|:443... connected.\n",
            "HTTP request sent, awaiting response... 200 OK\n",
            "Length: 635651017 (606M) [application/gzip]\n",
            "Saving to: ‘arbitrary_style_transfer.tar.gz’\n",
            "\n",
            "arbitrary_style_tra 100%[===================>] 606.20M  82.4MB/s    in 6.8s    \n",
            "\n",
            "2021-05-16 07:05:20 (89.5 MB/s) - ‘arbitrary_style_transfer.tar.gz’ saved [635651017/635651017]\n",
            "\n"
          ],
          "name": "stdout"
        }
      ]
    },
    {
      "cell_type": "code",
      "metadata": {
        "colab": {
          "base_uri": "https://localhost:8080/"
        },
        "id": "sZaH9bfyrPVt",
        "outputId": "e22ae7da-35a9-43f0-9842-78c2b4ba5081"
      },
      "source": [
        "! tar -xzvf arbitrary_style_transfer.tar.gz"
      ],
      "execution_count": null,
      "outputs": [
        {
          "output_type": "stream",
          "text": [
            "arbitrary_style_transfer/\n",
            "arbitrary_style_transfer/model.ckpt.index\n",
            "arbitrary_style_transfer/model.ckpt.data-00000-of-00001\n",
            "arbitrary_style_transfer/model.ckpt.meta\n"
          ],
          "name": "stdout"
        }
      ]
    },
    {
      "cell_type": "code",
      "metadata": {
        "id": "LoakPlq4qeCa",
        "colab": {
          "base_uri": "https://localhost:8080/"
        },
        "outputId": "144a8963-061b-4f3d-e805-ceda5ae64da5"
      },
      "source": [
        "! git clone https://github.com/tensorflow/magenta.git"
      ],
      "execution_count": null,
      "outputs": [
        {
          "output_type": "stream",
          "text": [
            "Cloning into 'magenta'...\n",
            "remote: Enumerating objects: 15165, done.\u001b[K\n",
            "remote: Counting objects: 100% (37/37), done.\u001b[K\n",
            "remote: Compressing objects: 100% (27/27), done.\u001b[K\n",
            "remote: Total 15165 (delta 13), reused 19 (delta 10), pack-reused 15128\u001b[K\n",
            "Receiving objects: 100% (15165/15165), 36.12 MiB | 31.29 MiB/s, done.\n",
            "Resolving deltas: 100% (11443/11443), done.\n"
          ],
          "name": "stdout"
        }
      ]
    },
    {
      "cell_type": "code",
      "metadata": {
        "colab": {
          "base_uri": "https://localhost:8080/"
        },
        "id": "XakOjnDLrEt7",
        "outputId": "d22b3ccb-2a8b-4851-9ce5-39d116bce861"
      },
      "source": [
        "! pip install -e magenta"
      ],
      "execution_count": null,
      "outputs": [
        {
          "output_type": "stream",
          "text": [
            "Obtaining file:///content/magenta\n",
            "Requirement already satisfied: absl-py in /usr/local/lib/python3.7/dist-packages (from magenta==2.1.3) (0.12.0)\n",
            "Collecting dm-sonnet\n",
            "\u001b[?25l  Downloading https://files.pythonhosted.org/packages/13/28/9185afffefb655ef1a29f4b84aa9f656826408ca2d1b9ffeba81fbfd40ec/dm_sonnet-2.0.0-py3-none-any.whl (254kB)\n",
            "\u001b[K     |████████████████████████████████| 256kB 6.6MB/s \n",
            "\u001b[?25hRequirement already satisfied: dopamine-rl<=3.0.1 in /usr/local/lib/python3.7/dist-packages (from magenta==2.1.3) (1.0.5)\n",
            "Requirement already satisfied: imageio in /usr/local/lib/python3.7/dist-packages (from magenta==2.1.3) (2.4.1)\n",
            "Collecting librosa<0.8.0,>=0.6.2\n",
            "\u001b[?25l  Downloading https://files.pythonhosted.org/packages/77/b5/1817862d64a7c231afd15419d8418ae1f000742cac275e85c74b219cbccb/librosa-0.7.2.tar.gz (1.6MB)\n",
            "\u001b[K     |████████████████████████████████| 1.6MB 9.1MB/s \n",
            "\u001b[?25hRequirement already satisfied: matplotlib>=1.5.3 in /usr/local/lib/python3.7/dist-packages (from magenta==2.1.3) (3.2.2)\n",
            "Collecting mido==1.2.6\n",
            "\u001b[?25l  Downloading https://files.pythonhosted.org/packages/10/51/447066f537e05996a4579829b93390a4d85b0e3da90c5fbc34c1e70a37d5/mido-1.2.6-py2.py3-none-any.whl (69kB)\n",
            "\u001b[K     |████████████████████████████████| 71kB 6.1MB/s \n",
            "\u001b[?25hCollecting mir_eval>=0.4\n",
            "\u001b[?25l  Downloading https://files.pythonhosted.org/packages/0a/fe/be4f7a59ed71938e21e89f23afe93eea0d39eb3e77f83754a12028cf1a68/mir_eval-0.6.tar.gz (87kB)\n",
            "\u001b[K     |████████████████████████████████| 92kB 7.0MB/s \n",
            "\u001b[?25hCollecting note-seq\n",
            "\u001b[?25l  Downloading https://files.pythonhosted.org/packages/26/90/7c76e8e0ca56a4a2b760bf5f5a345c7d0cff66ce723ce902e75e8b581335/note_seq-0.0.3-py3-none-any.whl (210kB)\n",
            "\u001b[K     |████████████████████████████████| 215kB 18.7MB/s \n",
            "\u001b[?25hCollecting numba<0.50\n",
            "\u001b[?25l  Downloading https://files.pythonhosted.org/packages/46/7e/e35c5cca15a9fac1c5a7b3d25eeed8a2e909066f4b3cd790c5ecf5d40a9b/numba-0.49.1-cp37-cp37m-manylinux2014_x86_64.whl (3.6MB)\n",
            "\u001b[K     |████████████████████████████████| 3.6MB 25.2MB/s \n",
            "\u001b[?25hRequirement already satisfied: numpy in /usr/local/lib/python3.7/dist-packages (from magenta==2.1.3) (1.19.5)\n",
            "Requirement already satisfied: Pillow>=3.4.2 in /usr/local/lib/python3.7/dist-packages (from magenta==2.1.3) (7.1.2)\n",
            "Collecting pretty_midi>=0.2.6\n",
            "\u001b[?25l  Downloading https://files.pythonhosted.org/packages/bc/8e/63c6e39a7a64623a9cd6aec530070c70827f6f8f40deec938f323d7b1e15/pretty_midi-0.2.9.tar.gz (5.6MB)\n",
            "\u001b[K     |████████████████████████████████| 5.6MB 20.5MB/s \n",
            "\u001b[?25hCollecting pygtrie>=2.3\n",
            "  Downloading https://files.pythonhosted.org/packages/a5/8b/90d0f21a27a354e808a73eb0ffb94db990ab11ad1d8b3db3e5196c882cad/pygtrie-2.4.2.tar.gz\n",
            "Collecting python-rtmidi<1.2,>=1.1\n",
            "\u001b[?25l  Downloading https://files.pythonhosted.org/packages/2c/78/16f6d12abfccb6b1d330b1e1c6228536fa8d8ef6c14d560aba20176f044c/python-rtmidi-1.1.2.tar.gz (204kB)\n",
            "\u001b[K     |████████████████████████████████| 204kB 52.5MB/s \n",
            "\u001b[?25hRequirement already satisfied: scikit-image in /usr/local/lib/python3.7/dist-packages (from magenta==2.1.3) (0.16.2)\n",
            "Requirement already satisfied: scipy>=0.18.1 in /usr/local/lib/python3.7/dist-packages (from magenta==2.1.3) (1.4.1)\n",
            "Requirement already satisfied: six>=1.12.0 in /usr/local/lib/python3.7/dist-packages (from magenta==2.1.3) (1.15.0)\n",
            "Collecting sk-video\n",
            "\u001b[?25l  Downloading https://files.pythonhosted.org/packages/dd/3f/ce848b8b2062ad1ccf1449094a740c775f6c761339f411e44f1e090f23a7/sk_video-1.1.10-py2.py3-none-any.whl (2.3MB)\n",
            "\u001b[K     |████████████████████████████████| 2.3MB 50.7MB/s \n",
            "\u001b[?25hCollecting sox>=1.3.7\n",
            "  Downloading https://files.pythonhosted.org/packages/3f/67/1810e9a69956eb236967b7174c11fd8d8c2cdab051509286f72e6c7e147e/sox-1.4.1-py2.py3-none-any.whl\n",
            "Collecting tensor2tensor\n",
            "\u001b[?25l  Downloading https://files.pythonhosted.org/packages/d6/7c/9e87d30cefad5cbc390bb7f626efb3ded9b19416b8160f1a1278da81b218/tensor2tensor-1.15.7-py2.py3-none-any.whl (1.4MB)\n",
            "\u001b[K     |████████████████████████████████| 1.5MB 48.2MB/s \n",
            "\u001b[?25hRequirement already satisfied: tensorflow in /usr/local/lib/python3.7/dist-packages (from magenta==2.1.3) (2.4.1)\n",
            "Requirement already satisfied: tensorflow-datasets in /usr/local/lib/python3.7/dist-packages (from magenta==2.1.3) (4.0.1)\n",
            "Requirement already satisfied: tensorflow-probability in /usr/local/lib/python3.7/dist-packages (from magenta==2.1.3) (0.12.1)\n",
            "Collecting tf_slim\n",
            "\u001b[?25l  Downloading https://files.pythonhosted.org/packages/02/97/b0f4a64df018ca018cc035d44f2ef08f91e2e8aa67271f6f19633a015ff7/tf_slim-1.1.0-py2.py3-none-any.whl (352kB)\n",
            "\u001b[K     |████████████████████████████████| 358kB 53.3MB/s \n",
            "\u001b[?25hRequirement already satisfied: wheel in /usr/local/lib/python3.7/dist-packages (from magenta==2.1.3) (0.36.2)\n",
            "Requirement already satisfied: wrapt>=1.11.1 in /usr/local/lib/python3.7/dist-packages (from dm-sonnet->magenta==2.1.3) (1.12.1)\n",
            "Requirement already satisfied: dm-tree>=0.1.1 in /usr/local/lib/python3.7/dist-packages (from dm-sonnet->magenta==2.1.3) (0.1.6)\n",
            "Requirement already satisfied: tabulate>=0.7.5 in /usr/local/lib/python3.7/dist-packages (from dm-sonnet->magenta==2.1.3) (0.8.9)\n",
            "Requirement already satisfied: gin-config>=0.1.1 in /usr/local/lib/python3.7/dist-packages (from dopamine-rl<=3.0.1->magenta==2.1.3) (0.4.0)\n",
            "Requirement already satisfied: gym>=0.10.5 in /usr/local/lib/python3.7/dist-packages (from dopamine-rl<=3.0.1->magenta==2.1.3) (0.17.3)\n",
            "Requirement already satisfied: opencv-python>=3.4.1.15 in /usr/local/lib/python3.7/dist-packages (from dopamine-rl<=3.0.1->magenta==2.1.3) (4.1.2.30)\n",
            "Requirement already satisfied: audioread>=2.0.0 in /usr/local/lib/python3.7/dist-packages (from librosa<0.8.0,>=0.6.2->magenta==2.1.3) (2.1.9)\n",
            "Requirement already satisfied: scikit-learn!=0.19.0,>=0.14.0 in /usr/local/lib/python3.7/dist-packages (from librosa<0.8.0,>=0.6.2->magenta==2.1.3) (0.22.2.post1)\n",
            "Requirement already satisfied: joblib>=0.12 in /usr/local/lib/python3.7/dist-packages (from librosa<0.8.0,>=0.6.2->magenta==2.1.3) (1.0.1)\n",
            "Requirement already satisfied: decorator>=3.0.0 in /usr/local/lib/python3.7/dist-packages (from librosa<0.8.0,>=0.6.2->magenta==2.1.3) (4.4.2)\n",
            "Requirement already satisfied: resampy>=0.2.2 in /usr/local/lib/python3.7/dist-packages (from librosa<0.8.0,>=0.6.2->magenta==2.1.3) (0.2.2)\n",
            "Requirement already satisfied: soundfile>=0.9.0 in /usr/local/lib/python3.7/dist-packages (from librosa<0.8.0,>=0.6.2->magenta==2.1.3) (0.10.3.post1)\n",
            "Requirement already satisfied: python-dateutil>=2.1 in /usr/local/lib/python3.7/dist-packages (from matplotlib>=1.5.3->magenta==2.1.3) (2.8.1)\n",
            "Requirement already satisfied: pyparsing!=2.0.4,!=2.1.2,!=2.1.6,>=2.0.1 in /usr/local/lib/python3.7/dist-packages (from matplotlib>=1.5.3->magenta==2.1.3) (2.4.7)\n",
            "Requirement already satisfied: cycler>=0.10 in /usr/local/lib/python3.7/dist-packages (from matplotlib>=1.5.3->magenta==2.1.3) (0.10.0)\n",
            "Requirement already satisfied: kiwisolver>=1.0.1 in /usr/local/lib/python3.7/dist-packages (from matplotlib>=1.5.3->magenta==2.1.3) (1.3.1)\n",
            "Requirement already satisfied: future in /usr/local/lib/python3.7/dist-packages (from mir_eval>=0.4->magenta==2.1.3) (0.16.0)\n",
            "Requirement already satisfied: intervaltree>=2.1.0 in /usr/local/lib/python3.7/dist-packages (from note-seq->magenta==2.1.3) (2.1.0)\n",
            "Collecting pydub\n",
            "  Downloading https://files.pythonhosted.org/packages/a6/53/d78dc063216e62fc55f6b2eebb447f6a4b0a59f55c8406376f76bf959b08/pydub-0.25.1-py2.py3-none-any.whl\n",
            "Requirement already satisfied: IPython in /usr/local/lib/python3.7/dist-packages (from note-seq->magenta==2.1.3) (5.5.0)\n",
            "Requirement already satisfied: attrs in /usr/local/lib/python3.7/dist-packages (from note-seq->magenta==2.1.3) (21.2.0)\n",
            "Requirement already satisfied: bokeh>=0.12.0 in /usr/local/lib/python3.7/dist-packages (from note-seq->magenta==2.1.3) (2.3.2)\n",
            "Requirement already satisfied: protobuf>=3.6.1 in /usr/local/lib/python3.7/dist-packages (from note-seq->magenta==2.1.3) (3.12.4)\n",
            "Requirement already satisfied: pandas>=0.18.1 in /usr/local/lib/python3.7/dist-packages (from note-seq->magenta==2.1.3) (1.1.5)\n",
            "Requirement already satisfied: setuptools in /usr/local/lib/python3.7/dist-packages (from numba<0.50->magenta==2.1.3) (56.1.0)\n",
            "Collecting llvmlite<=0.33.0.dev0,>=0.31.0.dev0\n",
            "\u001b[?25l  Downloading https://files.pythonhosted.org/packages/c1/4c/e9554f393c60018ff89dcc87f7ff30866c97f81482bec64e62d81685612f/llvmlite-0.32.1-cp37-cp37m-manylinux1_x86_64.whl (20.2MB)\n",
            "\u001b[K     |████████████████████████████████| 20.2MB 1.5MB/s \n",
            "\u001b[?25hRequirement already satisfied: PyWavelets>=0.4.0 in /usr/local/lib/python3.7/dist-packages (from scikit-image->magenta==2.1.3) (1.1.1)\n",
            "Requirement already satisfied: networkx>=2.0 in /usr/local/lib/python3.7/dist-packages (from scikit-image->magenta==2.1.3) (2.5.1)\n",
            "Requirement already satisfied: google-api-python-client in /usr/local/lib/python3.7/dist-packages (from tensor2tensor->magenta==2.1.3) (1.12.8)\n",
            "Requirement already satisfied: sympy in /usr/local/lib/python3.7/dist-packages (from tensor2tensor->magenta==2.1.3) (1.7.1)\n",
            "Requirement already satisfied: h5py in /usr/local/lib/python3.7/dist-packages (from tensor2tensor->magenta==2.1.3) (2.10.0)\n",
            "Collecting pypng\n",
            "\u001b[?25l  Downloading https://files.pythonhosted.org/packages/bc/fb/f719f1ac965e2101aa6ea6f54ef8b40f8fbb033f6ad07c017663467f5147/pypng-0.0.20.tar.gz (649kB)\n",
            "\u001b[K     |████████████████████████████████| 655kB 47.6MB/s \n",
            "\u001b[?25hCollecting mesh-tensorflow\n",
            "\u001b[?25l  Downloading https://files.pythonhosted.org/packages/ce/10/37df0bc87ebf84e1414613176340e3aadc3697d2bd112bf63d3d4b1e848a/mesh_tensorflow-0.1.19-py3-none-any.whl (366kB)\n",
            "\u001b[K     |████████████████████████████████| 368kB 49.0MB/s \n",
            "\u001b[?25hRequirement already satisfied: oauth2client in /usr/local/lib/python3.7/dist-packages (from tensor2tensor->magenta==2.1.3) (4.1.3)\n",
            "Collecting kfac\n",
            "\u001b[?25l  Downloading https://files.pythonhosted.org/packages/1c/36/06fe2c757044bb51906fef231ac48cc5bf9a277fc9a8c7e1108d7e9e8cfd/kfac-0.2.3-py2.py3-none-any.whl (191kB)\n",
            "\u001b[K     |████████████████████████████████| 194kB 49.5MB/s \n",
            "\u001b[?25hCollecting gevent\n",
            "\u001b[?25l  Downloading https://files.pythonhosted.org/packages/3e/85/df3d1fd2b60a87455475f93012861b76a411d27ba4a0859939adbe2c9dc3/gevent-21.1.2-cp37-cp37m-manylinux2010_x86_64.whl (5.6MB)\n",
            "\u001b[K     |████████████████████████████████| 5.6MB 49.0MB/s \n",
            "\u001b[?25hRequirement already satisfied: tqdm in /usr/local/lib/python3.7/dist-packages (from tensor2tensor->magenta==2.1.3) (4.41.1)\n",
            "Collecting bz2file\n",
            "  Downloading https://files.pythonhosted.org/packages/61/39/122222b5e85cd41c391b68a99ee296584b2a2d1d233e7ee32b4532384f2d/bz2file-0.98.tar.gz\n",
            "Collecting gunicorn\n",
            "\u001b[?25l  Downloading https://files.pythonhosted.org/packages/e4/dd/5b190393e6066286773a67dfcc2f9492058e9b57c4867a95f1ba5caf0a83/gunicorn-20.1.0-py3-none-any.whl (79kB)\n",
            "\u001b[K     |████████████████████████████████| 81kB 7.7MB/s \n",
            "\u001b[?25hCollecting tensorflow-gan\n",
            "\u001b[?25l  Downloading https://files.pythonhosted.org/packages/0c/2e/62922111d7d50e1900e3030764743ea7735540ce103b3ab30fd5cd2d8a2b/tensorflow_gan-2.0.0-py2.py3-none-any.whl (365kB)\n",
            "\u001b[K     |████████████████████████████████| 368kB 54.7MB/s \n",
            "\u001b[?25hRequirement already satisfied: requests in /usr/local/lib/python3.7/dist-packages (from tensor2tensor->magenta==2.1.3) (2.23.0)\n",
            "Collecting tensorflow-addons\n",
            "\u001b[?25l  Downloading https://files.pythonhosted.org/packages/66/4b/e893d194e626c24b3df2253066aa418f46a432fdb68250cde14bf9bb0700/tensorflow_addons-0.13.0-cp37-cp37m-manylinux2010_x86_64.whl (679kB)\n",
            "\u001b[K     |████████████████████████████████| 686kB 48.5MB/s \n",
            "\u001b[?25hRequirement already satisfied: flask in /usr/local/lib/python3.7/dist-packages (from tensor2tensor->magenta==2.1.3) (1.1.2)\n",
            "Requirement already satisfied: termcolor~=1.1.0 in /usr/local/lib/python3.7/dist-packages (from tensorflow->magenta==2.1.3) (1.1.0)\n",
            "Requirement already satisfied: typing-extensions~=3.7.4 in /usr/local/lib/python3.7/dist-packages (from tensorflow->magenta==2.1.3) (3.7.4.3)\n",
            "Requirement already satisfied: google-pasta~=0.2 in /usr/local/lib/python3.7/dist-packages (from tensorflow->magenta==2.1.3) (0.2.0)\n",
            "Requirement already satisfied: flatbuffers~=1.12.0 in /usr/local/lib/python3.7/dist-packages (from tensorflow->magenta==2.1.3) (1.12)\n",
            "Requirement already satisfied: opt-einsum~=3.3.0 in /usr/local/lib/python3.7/dist-packages (from tensorflow->magenta==2.1.3) (3.3.0)\n",
            "Requirement already satisfied: gast==0.3.3 in /usr/local/lib/python3.7/dist-packages (from tensorflow->magenta==2.1.3) (0.3.3)\n",
            "Requirement already satisfied: keras-preprocessing~=1.1.2 in /usr/local/lib/python3.7/dist-packages (from tensorflow->magenta==2.1.3) (1.1.2)\n",
            "Requirement already satisfied: tensorflow-estimator<2.5.0,>=2.4.0 in /usr/local/lib/python3.7/dist-packages (from tensorflow->magenta==2.1.3) (2.4.0)\n",
            "Requirement already satisfied: tensorboard~=2.4 in /usr/local/lib/python3.7/dist-packages (from tensorflow->magenta==2.1.3) (2.4.1)\n",
            "Requirement already satisfied: grpcio~=1.32.0 in /usr/local/lib/python3.7/dist-packages (from tensorflow->magenta==2.1.3) (1.32.0)\n",
            "Requirement already satisfied: astunparse~=1.6.3 in /usr/local/lib/python3.7/dist-packages (from tensorflow->magenta==2.1.3) (1.6.3)\n",
            "Requirement already satisfied: tensorflow-metadata in /usr/local/lib/python3.7/dist-packages (from tensorflow-datasets->magenta==2.1.3) (0.30.0)\n",
            "Requirement already satisfied: dill in /usr/local/lib/python3.7/dist-packages (from tensorflow-datasets->magenta==2.1.3) (0.3.3)\n",
            "Requirement already satisfied: promise in /usr/local/lib/python3.7/dist-packages (from tensorflow-datasets->magenta==2.1.3) (2.3)\n",
            "Requirement already satisfied: importlib-resources; python_version < \"3.9\" in /usr/local/lib/python3.7/dist-packages (from tensorflow-datasets->magenta==2.1.3) (5.1.2)\n",
            "Requirement already satisfied: cloudpickle>=1.3 in /usr/local/lib/python3.7/dist-packages (from tensorflow-probability->magenta==2.1.3) (1.3.0)\n",
            "Requirement already satisfied: pyglet<=1.5.0,>=1.4.0 in /usr/local/lib/python3.7/dist-packages (from gym>=0.10.5->dopamine-rl<=3.0.1->magenta==2.1.3) (1.5.0)\n",
            "Requirement already satisfied: cffi>=1.0 in /usr/local/lib/python3.7/dist-packages (from soundfile>=0.9.0->librosa<0.8.0,>=0.6.2->magenta==2.1.3) (1.14.5)\n",
            "Requirement already satisfied: sortedcontainers in /usr/local/lib/python3.7/dist-packages (from intervaltree>=2.1.0->note-seq->magenta==2.1.3) (2.3.0)\n",
            "Requirement already satisfied: simplegeneric>0.8 in /usr/local/lib/python3.7/dist-packages (from IPython->note-seq->magenta==2.1.3) (0.8.1)\n",
            "Requirement already satisfied: prompt-toolkit<2.0.0,>=1.0.4 in /usr/local/lib/python3.7/dist-packages (from IPython->note-seq->magenta==2.1.3) (1.0.18)\n",
            "Requirement already satisfied: pygments in /usr/local/lib/python3.7/dist-packages (from IPython->note-seq->magenta==2.1.3) (2.6.1)\n",
            "Requirement already satisfied: traitlets>=4.2 in /usr/local/lib/python3.7/dist-packages (from IPython->note-seq->magenta==2.1.3) (5.0.5)\n",
            "Requirement already satisfied: pexpect; sys_platform != \"win32\" in /usr/local/lib/python3.7/dist-packages (from IPython->note-seq->magenta==2.1.3) (4.8.0)\n",
            "Requirement already satisfied: pickleshare in /usr/local/lib/python3.7/dist-packages (from IPython->note-seq->magenta==2.1.3) (0.7.5)\n",
            "Requirement already satisfied: Jinja2>=2.9 in /usr/local/lib/python3.7/dist-packages (from bokeh>=0.12.0->note-seq->magenta==2.1.3) (2.11.3)\n",
            "Requirement already satisfied: packaging>=16.8 in /usr/local/lib/python3.7/dist-packages (from bokeh>=0.12.0->note-seq->magenta==2.1.3) (20.9)\n",
            "Requirement already satisfied: PyYAML>=3.10 in /usr/local/lib/python3.7/dist-packages (from bokeh>=0.12.0->note-seq->magenta==2.1.3) (3.13)\n",
            "Requirement already satisfied: tornado>=5.1 in /usr/local/lib/python3.7/dist-packages (from bokeh>=0.12.0->note-seq->magenta==2.1.3) (5.1.1)\n",
            "Requirement already satisfied: pytz>=2017.2 in /usr/local/lib/python3.7/dist-packages (from pandas>=0.18.1->note-seq->magenta==2.1.3) (2018.9)\n",
            "Requirement already satisfied: google-auth-httplib2>=0.0.3 in /usr/local/lib/python3.7/dist-packages (from google-api-python-client->tensor2tensor->magenta==2.1.3) (0.0.4)\n",
            "Requirement already satisfied: google-auth>=1.16.0 in /usr/local/lib/python3.7/dist-packages (from google-api-python-client->tensor2tensor->magenta==2.1.3) (1.30.0)\n",
            "Requirement already satisfied: google-api-core<2dev,>=1.21.0 in /usr/local/lib/python3.7/dist-packages (from google-api-python-client->tensor2tensor->magenta==2.1.3) (1.26.3)\n",
            "Requirement already satisfied: uritemplate<4dev,>=3.0.0 in /usr/local/lib/python3.7/dist-packages (from google-api-python-client->tensor2tensor->magenta==2.1.3) (3.0.1)\n",
            "Requirement already satisfied: httplib2<1dev,>=0.15.0 in /usr/local/lib/python3.7/dist-packages (from google-api-python-client->tensor2tensor->magenta==2.1.3) (0.17.4)\n",
            "Requirement already satisfied: mpmath>=0.19 in /usr/local/lib/python3.7/dist-packages (from sympy->tensor2tensor->magenta==2.1.3) (1.2.1)\n",
            "Requirement already satisfied: pyasn1>=0.1.7 in /usr/local/lib/python3.7/dist-packages (from oauth2client->tensor2tensor->magenta==2.1.3) (0.4.8)\n",
            "Requirement already satisfied: rsa>=3.1.4 in /usr/local/lib/python3.7/dist-packages (from oauth2client->tensor2tensor->magenta==2.1.3) (4.7.2)\n",
            "Requirement already satisfied: pyasn1-modules>=0.0.5 in /usr/local/lib/python3.7/dist-packages (from oauth2client->tensor2tensor->magenta==2.1.3) (0.2.8)\n",
            "Requirement already satisfied: greenlet<2.0,>=0.4.17; platform_python_implementation == \"CPython\" in /usr/local/lib/python3.7/dist-packages (from gevent->tensor2tensor->magenta==2.1.3) (1.1.0)\n",
            "Collecting zope.event\n",
            "  Downloading https://files.pythonhosted.org/packages/9e/85/b45408c64f3b888976f1d5b37eed8d746b8d5729a66a49ec846fda27d371/zope.event-4.5.0-py2.py3-none-any.whl\n",
            "Collecting zope.interface\n",
            "\u001b[?25l  Downloading https://files.pythonhosted.org/packages/bb/a7/94e1a92c71436f934cdd2102826fa041c83dcb7d21dd0f1fb1a57f6e0620/zope.interface-5.4.0-cp37-cp37m-manylinux2010_x86_64.whl (251kB)\n",
            "\u001b[K     |████████████████████████████████| 256kB 53.4MB/s \n",
            "\u001b[?25hRequirement already satisfied: tensorflow-hub>=0.2 in /usr/local/lib/python3.7/dist-packages (from tensorflow-gan->tensor2tensor->magenta==2.1.3) (0.12.0)\n",
            "Requirement already satisfied: certifi>=2017.4.17 in /usr/local/lib/python3.7/dist-packages (from requests->tensor2tensor->magenta==2.1.3) (2020.12.5)\n",
            "Requirement already satisfied: urllib3!=1.25.0,!=1.25.1,<1.26,>=1.21.1 in /usr/local/lib/python3.7/dist-packages (from requests->tensor2tensor->magenta==2.1.3) (1.24.3)\n",
            "Requirement already satisfied: chardet<4,>=3.0.2 in /usr/local/lib/python3.7/dist-packages (from requests->tensor2tensor->magenta==2.1.3) (3.0.4)\n",
            "Requirement already satisfied: idna<3,>=2.5 in /usr/local/lib/python3.7/dist-packages (from requests->tensor2tensor->magenta==2.1.3) (2.10)\n",
            "Requirement already satisfied: typeguard>=2.7 in /usr/local/lib/python3.7/dist-packages (from tensorflow-addons->tensor2tensor->magenta==2.1.3) (2.7.1)\n",
            "Requirement already satisfied: click>=5.1 in /usr/local/lib/python3.7/dist-packages (from flask->tensor2tensor->magenta==2.1.3) (8.0.0)\n",
            "Requirement already satisfied: Werkzeug>=0.15 in /usr/local/lib/python3.7/dist-packages (from flask->tensor2tensor->magenta==2.1.3) (2.0.0)\n",
            "Requirement already satisfied: itsdangerous>=0.24 in /usr/local/lib/python3.7/dist-packages (from flask->tensor2tensor->magenta==2.1.3) (2.0.0)\n",
            "Requirement already satisfied: tensorboard-plugin-wit>=1.6.0 in /usr/local/lib/python3.7/dist-packages (from tensorboard~=2.4->tensorflow->magenta==2.1.3) (1.8.0)\n",
            "Requirement already satisfied: markdown>=2.6.8 in /usr/local/lib/python3.7/dist-packages (from tensorboard~=2.4->tensorflow->magenta==2.1.3) (3.3.4)\n",
            "Requirement already satisfied: google-auth-oauthlib<0.5,>=0.4.1 in /usr/local/lib/python3.7/dist-packages (from tensorboard~=2.4->tensorflow->magenta==2.1.3) (0.4.4)\n",
            "Requirement already satisfied: googleapis-common-protos<2,>=1.52.0 in /usr/local/lib/python3.7/dist-packages (from tensorflow-metadata->tensorflow-datasets->magenta==2.1.3) (1.53.0)\n",
            "Requirement already satisfied: zipp>=0.4; python_version < \"3.8\" in /usr/local/lib/python3.7/dist-packages (from importlib-resources; python_version < \"3.9\"->tensorflow-datasets->magenta==2.1.3) (3.4.1)\n",
            "Requirement already satisfied: pycparser in /usr/local/lib/python3.7/dist-packages (from cffi>=1.0->soundfile>=0.9.0->librosa<0.8.0,>=0.6.2->magenta==2.1.3) (2.20)\n",
            "Requirement already satisfied: wcwidth in /usr/local/lib/python3.7/dist-packages (from prompt-toolkit<2.0.0,>=1.0.4->IPython->note-seq->magenta==2.1.3) (0.2.5)\n",
            "Requirement already satisfied: ipython-genutils in /usr/local/lib/python3.7/dist-packages (from traitlets>=4.2->IPython->note-seq->magenta==2.1.3) (0.2.0)\n",
            "Requirement already satisfied: ptyprocess>=0.5 in /usr/local/lib/python3.7/dist-packages (from pexpect; sys_platform != \"win32\"->IPython->note-seq->magenta==2.1.3) (0.7.0)\n",
            "Requirement already satisfied: MarkupSafe>=0.23 in /usr/local/lib/python3.7/dist-packages (from Jinja2>=2.9->bokeh>=0.12.0->note-seq->magenta==2.1.3) (2.0.0)\n",
            "Requirement already satisfied: cachetools<5.0,>=2.0.0 in /usr/local/lib/python3.7/dist-packages (from google-auth>=1.16.0->google-api-python-client->tensor2tensor->magenta==2.1.3) (4.2.2)\n",
            "Requirement already satisfied: importlib-metadata; python_version < \"3.8\" in /usr/local/lib/python3.7/dist-packages (from markdown>=2.6.8->tensorboard~=2.4->tensorflow->magenta==2.1.3) (4.0.1)\n",
            "Requirement already satisfied: requests-oauthlib>=0.7.0 in /usr/local/lib/python3.7/dist-packages (from google-auth-oauthlib<0.5,>=0.4.1->tensorboard~=2.4->tensorflow->magenta==2.1.3) (1.3.0)\n",
            "Requirement already satisfied: oauthlib>=3.0.0 in /usr/local/lib/python3.7/dist-packages (from requests-oauthlib>=0.7.0->google-auth-oauthlib<0.5,>=0.4.1->tensorboard~=2.4->tensorflow->magenta==2.1.3) (3.1.0)\n",
            "Building wheels for collected packages: librosa, mir-eval, pretty-midi, pygtrie, python-rtmidi, pypng, bz2file\n",
            "  Building wheel for librosa (setup.py) ... \u001b[?25l\u001b[?25hdone\n",
            "  Created wheel for librosa: filename=librosa-0.7.2-cp37-none-any.whl size=1612885 sha256=c2b2972f00f0cc63293d4d253427ed777f38397a5acf360a73ae47d0ba9543db\n",
            "  Stored in directory: /root/.cache/pip/wheels/4c/6e/d7/bb93911540d2d1e44d690a1561871e5b6af82b69e80938abef\n",
            "  Building wheel for mir-eval (setup.py) ... \u001b[?25l\u001b[?25hdone\n",
            "  Created wheel for mir-eval: filename=mir_eval-0.6-cp37-none-any.whl size=96515 sha256=0ea945d5cd573d437164959a175968f6e10a071117c208e4f684bfa8448902d4\n",
            "  Stored in directory: /root/.cache/pip/wheels/49/ce/30/730fa72addf275e49d90683b01b3613048b4be3bf7ff8eb6ec\n",
            "  Building wheel for pretty-midi (setup.py) ... \u001b[?25l\u001b[?25hdone\n",
            "  Created wheel for pretty-midi: filename=pretty_midi-0.2.9-cp37-none-any.whl size=5591954 sha256=77b9b9af0dfffb1b7d014537bc3ece1c797aab963c6bfea2b1e7e9edd5412627\n",
            "  Stored in directory: /root/.cache/pip/wheels/4c/a1/c6/b5697841db1112c6e5866d75a6b6bf1bef73b874782556ba66\n",
            "  Building wheel for pygtrie (setup.py) ... \u001b[?25l\u001b[?25hdone\n",
            "  Created wheel for pygtrie: filename=pygtrie-2.4.2-cp37-none-any.whl size=19063 sha256=1c260e3f0262cbf4beb04aa898477edefe2a3a692a6d86bc6822ddb75cf85de3\n",
            "  Stored in directory: /root/.cache/pip/wheels/db/57/91/73782136379fe419036c5ec0e4070d8b3a35f2a36bd6a94ed8\n",
            "  Building wheel for python-rtmidi (setup.py) ... \u001b[?25l\u001b[?25hdone\n",
            "  Created wheel for python-rtmidi: filename=python_rtmidi-1.1.2-cp37-cp37m-linux_x86_64.whl size=389705 sha256=507d2be68ea2e306f3d0220a3d4c8baaf4840c747ac6dc20106e16bd76861969\n",
            "  Stored in directory: /root/.cache/pip/wheels/b4/9d/55/0554f02fbc777976865e0ea603028a0f87854b7df385ffa366\n",
            "  Building wheel for pypng (setup.py) ... \u001b[?25l\u001b[?25hdone\n",
            "  Created wheel for pypng: filename=pypng-0.0.20-cp37-none-any.whl size=67163 sha256=20c113bf85404e010795324b91325a2859d4e5c9411dccdcff393cddce4866dc\n",
            "  Stored in directory: /root/.cache/pip/wheels/41/6b/ef/0493b536b6d4722c2ae9486691b1d49b922b9877922beeabb3\n",
            "  Building wheel for bz2file (setup.py) ... \u001b[?25l\u001b[?25hdone\n",
            "  Created wheel for bz2file: filename=bz2file-0.98-cp37-none-any.whl size=6884 sha256=351f3037920fa4405beb8a0a961de7a5cba51f88b1dd71969f7cb50d5d3387b1\n",
            "  Stored in directory: /root/.cache/pip/wheels/81/75/d6/e1317bf09bf1af5a30befc2a007869fa6e1f516b8f7c591cb9\n",
            "Successfully built librosa mir-eval pretty-midi pygtrie python-rtmidi pypng bz2file\n",
            "\u001b[31mERROR: kfac 0.2.3 has requirement tensorflow-probability==0.8, but you'll have tensorflow-probability 0.12.1 which is incompatible.\u001b[0m\n",
            "\u001b[31mERROR: tensor2tensor 1.15.7 has requirement tensorflow-probability==0.7.0, but you'll have tensorflow-probability 0.12.1 which is incompatible.\u001b[0m\n",
            "Installing collected packages: dm-sonnet, llvmlite, numba, librosa, mido, mir-eval, pydub, pretty-midi, note-seq, pygtrie, python-rtmidi, sk-video, sox, pypng, mesh-tensorflow, tf-slim, kfac, zope.event, zope.interface, gevent, bz2file, gunicorn, tensorflow-gan, tensorflow-addons, tensor2tensor, magenta\n",
            "  Found existing installation: llvmlite 0.34.0\n",
            "    Uninstalling llvmlite-0.34.0:\n",
            "      Successfully uninstalled llvmlite-0.34.0\n",
            "  Found existing installation: numba 0.51.2\n",
            "    Uninstalling numba-0.51.2:\n",
            "      Successfully uninstalled numba-0.51.2\n",
            "  Found existing installation: librosa 0.8.0\n",
            "    Uninstalling librosa-0.8.0:\n",
            "      Successfully uninstalled librosa-0.8.0\n",
            "  Running setup.py develop for magenta\n",
            "Successfully installed bz2file-0.98 dm-sonnet-2.0.0 gevent-21.1.2 gunicorn-20.1.0 kfac-0.2.3 librosa-0.7.2 llvmlite-0.32.1 magenta mesh-tensorflow-0.1.19 mido-1.2.6 mir-eval-0.6 note-seq-0.0.3 numba-0.49.1 pretty-midi-0.2.9 pydub-0.25.1 pygtrie-2.4.2 pypng-0.0.20 python-rtmidi-1.1.2 sk-video-1.1.10 sox-1.4.1 tensor2tensor-1.15.7 tensorflow-addons-0.13.0 tensorflow-gan-2.0.0 tf-slim-1.1.0 zope.event-4.5.0 zope.interface-5.4.0\n"
          ],
          "name": "stdout"
        }
      ]
    },
    {
      "cell_type": "code",
      "metadata": {
        "id": "zeY5-eQdrpAO"
      },
      "source": [
        "import os\n",
        "import sys\n",
        "import cv2\n",
        "import time\n",
        "\n",
        "def stylize_frames(style_path, output_folder, image_folder_base):\n",
        "  os.makedirs(output_folder, exist_ok=True)\n",
        "  os.system(\"! python magenta/magenta/models/arbitrary_image_stylization/arbitrary_image_stylization_with_weights.py \\\n",
        "          --checkpoint=arbitrary_style_transfer/model.ckpt \\\n",
        "          --output_dir={} \\\n",
        "          --style_images_paths={} \\\n",
        "          --content_images_paths={}/*\\\n",
        "          --image_size=256 \\\n",
        "          --content_square_crop=True \\\n",
        "          --style_image_size=256 \\\n",
        "          --style_square_crop=True\".format(output_folder, style_path, image_folder_base))\n",
        "\n",
        "def video_name_stripped(video_path):\n",
        "  return video_path.split('.')[0].split('/')[-1]\n",
        "\n",
        "def extract_video_frames(video_filename, output_path):\n",
        "  folder_base = os.path.join(output_path, video_name_stripped(video_filename))\n",
        "  os.makedirs(folder_base, exist_ok=True)\n",
        "  vidcap = cv2.VideoCapture(video_filename)\n",
        "  success, image = vidcap.read()\n",
        "  count = 0\n",
        "  while success:\n",
        "    cv2.imwrite(os.path.join(folder_base, \"frame_%06d.jpg\" % count), image)     # save frame as JPEG file      \n",
        "    success,image = vidcap.read()\n",
        "    if count % 1000 == 0: \n",
        "      print('Read a new frame: ', success, count)\n",
        "    count += 1\n",
        "\n",
        "  return folder_base\n",
        "\n",
        "def style_video_pipeline(style_path, image_folder_base, output_path):\n",
        "  print(\"Stylizing Individual Frames...\")\n",
        "  stylized_folder = os.path.join(output_path, video_name_stripped(style_path))\n",
        "  os.makedirs(stylized_folder, exist_ok=True)\n",
        "  %time stylize_frames(style_path, stylized_folder, image_folder_base)\n",
        "  print(\"Stitching Styled video...\")\n",
        "  %time os.system(\"ffmpeg -hide_banner -loglevel error -framerate 60 -pattern_type glob -i '{}/*stylized*.jpg'  -c:v libx264 -r 60 -pix_fmt yuv420p {}/{}.mp4\".format(stylized_folder, output_path, video_name_stripped(style_path)))"
      ],
      "execution_count": null,
      "outputs": []
    },
    {
      "cell_type": "code",
      "metadata": {
        "colab": {
          "base_uri": "https://localhost:8080/"
        },
        "id": "uF8ZtnFPr3t_",
        "outputId": "c9f200ab-0bf2-4e3a-b1ec-2f55861f4e19"
      },
      "source": [
        "video_output_path = \"/content/drive/MyDrive/Selfies/videos\"\n",
        "video_path = \"/content/drive/MyDrive/Selfies/videos/video_1.mp4\"\n",
        "%time image_folder_base = extract_video_frames(video_path, video_output_path)"
      ],
      "execution_count": null,
      "outputs": [
        {
          "output_type": "stream",
          "text": [
            "Read a new frame:  True 0\n",
            "Read a new frame:  True 1000\n",
            "CPU times: user 1min 43s, sys: 5.14 s, total: 1min 49s\n",
            "Wall time: 1min 46s\n"
          ],
          "name": "stdout"
        }
      ]
    },
    {
      "cell_type": "code",
      "metadata": {
        "colab": {
          "base_uri": "https://localhost:8080/"
        },
        "id": "94WjU2Rmw0Nh",
        "outputId": "7e66ff5c-3a08-4d81-b774-ef4da6bd7e07"
      },
      "source": [
        "output_path = \"/content/drive/MyDrive/Selfies/output\"\n",
        "style_path_base = \"/content/drive/MyDrive/Selfies/styles/style-{}.jpeg\"\n",
        "selfie_folder_base = \"/content/drive/MyDrive/Selfies/pictures\"\n",
        "for i in range(8):\n",
        "  print(\"Styling a few selfies first...\")\n",
        "  %time stylize_frames(style_path_base.format(i), os.path.join(output_path, 'selfies_{}'.format(i)), selfie_folder_base)\n",
        "  print(\"Styling a 30 second video at 60 fps...\")\n",
        "  style_video_pipeline(style_path_base.format(i), image_folder_base, output_path)"
      ],
      "execution_count": null,
      "outputs": [
        {
          "output_type": "stream",
          "text": [
            "Styling a few selfies first...\n",
            "CPU times: user 128 ms, sys: 25.6 ms, total: 154 ms\n",
            "Wall time: 30 s\n",
            "Styling a 30 second video at 60 fps...\n",
            "Stylizing Individual Frames...\n",
            "CPU times: user 1.97 s, sys: 240 ms, total: 2.21 s\n",
            "Wall time: 9min 34s\n",
            "Stitching Styled video...\n",
            "CPU times: user 11.7 ms, sys: 15.5 ms, total: 27.1 ms\n",
            "Wall time: 5.43 s\n",
            "Styling a few selfies first...\n",
            "CPU times: user 44.2 ms, sys: 8.56 ms, total: 52.8 ms\n",
            "Wall time: 18.8 s\n",
            "Styling a 30 second video at 60 fps...\n",
            "Stylizing Individual Frames...\n",
            "CPU times: user 1.27 s, sys: 125 ms, total: 1.4 s\n",
            "Wall time: 9min 38s\n",
            "Stitching Styled video...\n",
            "CPU times: user 11.8 ms, sys: 14.1 ms, total: 25.9 ms\n",
            "Wall time: 4.42 s\n",
            "Styling a few selfies first...\n",
            "CPU times: user 44 ms, sys: 9.44 ms, total: 53.4 ms\n",
            "Wall time: 19.6 s\n",
            "Styling a 30 second video at 60 fps...\n",
            "Stylizing Individual Frames...\n",
            "CPU times: user 1.44 s, sys: 118 ms, total: 1.55 s\n",
            "Wall time: 10min 20s\n",
            "Stitching Styled video...\n",
            "CPU times: user 12.1 ms, sys: 13.3 ms, total: 25.4 ms\n",
            "Wall time: 4.64 s\n",
            "Styling a few selfies first...\n",
            "CPU times: user 46.3 ms, sys: 8.68 ms, total: 55 ms\n",
            "Wall time: 20 s\n",
            "Styling a 30 second video at 60 fps...\n",
            "Stylizing Individual Frames...\n",
            "CPU times: user 1.67 s, sys: 147 ms, total: 1.81 s\n",
            "Wall time: 11min 10s\n",
            "Stitching Styled video...\n",
            "CPU times: user 12.9 ms, sys: 12.6 ms, total: 25.6 ms\n",
            "Wall time: 4.84 s\n",
            "Styling a few selfies first...\n",
            "CPU times: user 26.8 ms, sys: 13.6 ms, total: 40.4 ms\n",
            "Wall time: 12.3 s\n",
            "Styling a 30 second video at 60 fps...\n",
            "Stylizing Individual Frames...\n",
            "CPU times: user 511 ms, sys: 49.8 ms, total: 560 ms\n",
            "Wall time: 3min 43s\n",
            "Stitching Styled video...\n",
            "CPU times: user 1.29 ms, sys: 12.4 ms, total: 13.7 ms\n",
            "Wall time: 95.5 ms\n",
            "Styling a few selfies first...\n",
            "CPU times: user 45 ms, sys: 7 ms, total: 52 ms\n",
            "Wall time: 19 s\n",
            "Styling a 30 second video at 60 fps...\n",
            "Stylizing Individual Frames...\n",
            "CPU times: user 1.34 s, sys: 128 ms, total: 1.47 s\n",
            "Wall time: 10min 21s\n",
            "Stitching Styled video...\n",
            "CPU times: user 11.2 ms, sys: 13.7 ms, total: 24.9 ms\n",
            "Wall time: 4.39 s\n",
            "Styling a few selfies first...\n",
            "CPU times: user 40.6 ms, sys: 8.8 ms, total: 49.4 ms\n",
            "Wall time: 18.2 s\n",
            "Styling a 30 second video at 60 fps...\n",
            "Stylizing Individual Frames...\n",
            "CPU times: user 1.23 s, sys: 115 ms, total: 1.34 s\n",
            "Wall time: 9min 32s\n",
            "Stitching Styled video...\n",
            "CPU times: user 9.59 ms, sys: 14.5 ms, total: 24 ms\n",
            "Wall time: 4.37 s\n",
            "Styling a few selfies first...\n",
            "CPU times: user 42.5 ms, sys: 5.72 ms, total: 48.2 ms\n",
            "Wall time: 18.4 s\n",
            "Styling a 30 second video at 60 fps...\n",
            "Stylizing Individual Frames...\n",
            "CPU times: user 1.28 s, sys: 102 ms, total: 1.38 s\n",
            "Wall time: 9min 35s\n",
            "Stitching Styled video...\n",
            "CPU times: user 11.4 ms, sys: 15.7 ms, total: 27 ms\n",
            "Wall time: 4.03 s\n"
          ],
          "name": "stdout"
        }
      ]
    }
  ]
}